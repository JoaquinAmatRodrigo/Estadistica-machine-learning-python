{
 "cells": [
  {
   "cell_type": "markdown",
   "metadata": {},
   "source": [
    " "
   ]
  },
  {
   "cell_type": "code",
   "execution_count": 6,
   "metadata": {
    "tags": []
   },
   "outputs": [],
   "source": [
    "import numpy as np\n",
    "import pandas as pd\n",
    "\n",
    "%config Completer.use_jedi = False"
   ]
  },
  {
   "cell_type": "markdown",
   "metadata": {},
   "source": [
    "## Datos\n",
    "<br>\n",
    "\n",
    "\n",
    "Los datos empleados en este documento representan el uso a nivel horario del sistema de alquiler de bicicletas en la ciudad de Washington D.C. durante los años 2011 y 2012. Además del número de usuarios, el set de datos contiene información sobre las condiciones meteorológicas y sobre los días festivos. La información de cada columna es:\n",
    "\n",
    "- instant: record index\n",
    "- dteday : date\n",
    "- season : season (1:springer, 2:summer, 3:fall, 4:winter)\n",
    "- yr : year (0: 2011, 1:2012)\n",
    "- mnth : month ( 1 to 12)\n",
    "- hr : hour (0 to 23)\n",
    "- holiday : weather day is holiday or not (extracted from http://dchr.dc.gov/page/holiday-schedule)\n",
    "- weekday : day of the week (staring on Sunday)\n",
    "- workingday : if day is neither weekend nor holiday is 1, otherwise is 0.\n",
    "- weathersit : \n",
    "    - 1: Clear, Few clouds, Partly cloudy, Partly cloudy\n",
    "    - 2: Mist + Cloudy, Mist + Broken clouds, Mist + Few clouds, Mist\n",
    "    - 3: Light Snow, Light Rain + Thunderstorm + Scattered clouds, Light Rain + Scattered clouds\n",
    "    - 4: Heavy Rain + Ice Pallets + Thunderstorm + Mist, Snow + Fog\n",
    "- temp : Normalized temperature in Celsius. The values are divided to 41 (max)\n",
    "- atemp: Normalized feeling temperature in Celsius. The values are divided to 50 (max)\n",
    "- hum: Normalized humidity. The values are divided to 100 (max)\n",
    "- windspeed: Normalized wind speed. The values are divided to 67 (max)\n",
    "- casual: count of casual users\n",
    "- registered: count of registered users\n",
    "- cnt: count of total rental bikes including both casual and registered\n",
    "\n",
    "\n",
    "\n",
    "Los datos están disponibles en [UCI Machine Learning Repository](https://archive.ics.uci.edu/ml/datasets/bike+sharing+dataset)."
   ]
  },
  {
   "cell_type": "code",
   "execution_count": 7,
   "metadata": {},
   "outputs": [],
   "source": [
    "# Descarga y limpieza inicial de datos\n",
    "# ==============================================================================\n",
    "datos = pd.read_csv('bike_sharing_dataset.csv')"
   ]
  },
  {
   "cell_type": "code",
   "execution_count": 8,
   "metadata": {},
   "outputs": [],
   "source": [
    "# Prepraración del dato\n",
    "# ==============================================================================\n",
    "# Se renombran las columnas con nombres más descriptivos\n",
    "datos = datos.rename(\n",
    "            columns={\n",
    "                'dteday': 'date_time',\n",
    "                'yr': 'year',\n",
    "                'mnth': 'month',\n",
    "                'hr': 'hour',\n",
    "                'weathersit': 'weather',\n",
    "                'cnt': 'users'\n",
    "            })\n",
    "\n",
    "# Se renombran los niveles de la variable meteorológica. Solo hay cuatro valores\n",
    "# de heavy rain, así que se consideran como rain.\n",
    "datos['weather'] = datos['weather'].replace({\n",
    "                                        1: 'clear',\n",
    "                                        2: 'mist',\n",
    "                                        3: 'rain',\n",
    "                                        4: 'rain' \n",
    "                                    })\n",
    "\n",
    "# Se desnormaliza la temperatura, humedad y viento\n",
    "datos['temp'] = datos['temp'] * 41\n",
    "datos['atemp'] = datos['atemp'] * 50\n",
    "datos['hum'] = datos['hum'] * 100\n",
    "datos['windspeed'] = datos['windspeed'] * 67 \n",
    "\n",
    "# Se une la fecha y la hora ,y se establece cómo índice\n",
    "datos['date_time'] = datos.apply(\n",
    "                        lambda row: f\"{row['date_time']} {str(row['hour']).zfill(2)}:00:00\",\n",
    "                        axis = 1\n",
    "                     )\n",
    "datos['date_time'] = pd.to_datetime(datos['date_time'], format='%Y-%m-%d %H:%M:%S')\n",
    "datos = datos.set_index('date_time')\n",
    "datos = datos.asfreq('H')\n",
    "datos = datos.sort_index() \n",
    "\n",
    "\n",
    "# Se eliminan columnas no utilizadas en este ejemplo. Las variables 'month', 'weekday' y\n",
    "# 'hour' se recalculan tras la imputación de valores ausentes\n",
    "                            \n",
    "datos = datos.drop(columns=['instant', 'season', 'year', 'month', 'hour',\n",
    "                            'weekday', 'casual', 'registered'])"
   ]
  },
  {
   "cell_type": "code",
   "execution_count": 9,
   "metadata": {},
   "outputs": [
    {
     "data": {
      "text/plain": [
       "True"
      ]
     },
     "execution_count": 9,
     "metadata": {},
     "output_type": "execute_result"
    }
   ],
   "source": [
    "# Verificar que el índice temporal está completo\n",
    "# ==============================================================================\n",
    "(datos.index == pd.date_range(start=datos.index.min(),\n",
    "                              end=datos.index.max(),\n",
    "                              freq=datos.index.freq)).all()"
   ]
  },
  {
   "cell_type": "code",
   "execution_count": 10,
   "metadata": {},
   "outputs": [
    {
     "name": "stdout",
     "output_type": "stream",
     "text": [
      "Número de registros incompletos: 165 (0.94%)\n"
     ]
    }
   ],
   "source": [
    "# Identificar si hay registros incompletos\n",
    "# ==============================================================================\n",
    "n_missing = len(datos[datos.isnull().any(axis=1)])\n",
    "print(f\"Número de registros incompletos: {n_missing} ({100 * n_missing / len(datos):.2f}%)\")"
   ]
  },
  {
   "cell_type": "markdown",
   "metadata": {},
   "source": [
    "Hay un total de 165 horas para las que no se dispone de información. La serie temporal tiene que estar completa para poder aplicar las estrategias de *forcasting* disponibles en la librería skforecast. En este caso, dado que los valores ausentes som muy pocos y están muy dispersos, se emplea como estrategia de imputacion el *forward fill*. Existen otras estrategias que podrían dar mejores resultados."
   ]
  },
  {
   "cell_type": "code",
   "execution_count": 11,
   "metadata": {},
   "outputs": [],
   "source": [
    "datos = datos.fillna(method='ffill')"
   ]
  },
  {
   "cell_type": "markdown",
   "metadata": {},
   "source": [
    "Una vez realizada la imputación de valores ausentes, se recalculan las variables mes, hora y día de la semana."
   ]
  },
  {
   "cell_type": "code",
   "execution_count": 12,
   "metadata": {},
   "outputs": [],
   "source": [
    "datos['month'] = datos.index.month \n",
    "datos['hour'] = datos.index.hour\n",
    "datos['weekday'] = datos.index.weekday # Lunes=0, Domingo=6"
   ]
  },
  {
   "cell_type": "code",
   "execution_count": 13,
   "metadata": {},
   "outputs": [
    {
     "data": {
      "text/html": [
       "<div>\n",
       "<style scoped>\n",
       "    .dataframe tbody tr th:only-of-type {\n",
       "        vertical-align: middle;\n",
       "    }\n",
       "\n",
       "    .dataframe tbody tr th {\n",
       "        vertical-align: top;\n",
       "    }\n",
       "\n",
       "    .dataframe thead th {\n",
       "        text-align: right;\n",
       "    }\n",
       "</style>\n",
       "<table border=\"1\" class=\"dataframe\">\n",
       "  <thead>\n",
       "    <tr style=\"text-align: right;\">\n",
       "      <th></th>\n",
       "      <th>holiday</th>\n",
       "      <th>workingday</th>\n",
       "      <th>weather</th>\n",
       "      <th>temp</th>\n",
       "      <th>atemp</th>\n",
       "      <th>hum</th>\n",
       "      <th>windspeed</th>\n",
       "      <th>users</th>\n",
       "      <th>month</th>\n",
       "      <th>hour</th>\n",
       "      <th>weekday</th>\n",
       "    </tr>\n",
       "    <tr>\n",
       "      <th>date_time</th>\n",
       "      <th></th>\n",
       "      <th></th>\n",
       "      <th></th>\n",
       "      <th></th>\n",
       "      <th></th>\n",
       "      <th></th>\n",
       "      <th></th>\n",
       "      <th></th>\n",
       "      <th></th>\n",
       "      <th></th>\n",
       "      <th></th>\n",
       "    </tr>\n",
       "  </thead>\n",
       "  <tbody>\n",
       "    <tr>\n",
       "      <th>2011-01-01 00:00:00</th>\n",
       "      <td>0.0</td>\n",
       "      <td>0.0</td>\n",
       "      <td>clear</td>\n",
       "      <td>9.84</td>\n",
       "      <td>14.395</td>\n",
       "      <td>81.0</td>\n",
       "      <td>0.0000</td>\n",
       "      <td>16.0</td>\n",
       "      <td>1</td>\n",
       "      <td>0</td>\n",
       "      <td>5</td>\n",
       "    </tr>\n",
       "    <tr>\n",
       "      <th>2011-01-01 01:00:00</th>\n",
       "      <td>0.0</td>\n",
       "      <td>0.0</td>\n",
       "      <td>clear</td>\n",
       "      <td>9.02</td>\n",
       "      <td>13.635</td>\n",
       "      <td>80.0</td>\n",
       "      <td>0.0000</td>\n",
       "      <td>40.0</td>\n",
       "      <td>1</td>\n",
       "      <td>1</td>\n",
       "      <td>5</td>\n",
       "    </tr>\n",
       "    <tr>\n",
       "      <th>2011-01-01 02:00:00</th>\n",
       "      <td>0.0</td>\n",
       "      <td>0.0</td>\n",
       "      <td>clear</td>\n",
       "      <td>9.02</td>\n",
       "      <td>13.635</td>\n",
       "      <td>80.0</td>\n",
       "      <td>0.0000</td>\n",
       "      <td>32.0</td>\n",
       "      <td>1</td>\n",
       "      <td>2</td>\n",
       "      <td>5</td>\n",
       "    </tr>\n",
       "    <tr>\n",
       "      <th>2011-01-01 03:00:00</th>\n",
       "      <td>0.0</td>\n",
       "      <td>0.0</td>\n",
       "      <td>clear</td>\n",
       "      <td>9.84</td>\n",
       "      <td>14.395</td>\n",
       "      <td>75.0</td>\n",
       "      <td>0.0000</td>\n",
       "      <td>13.0</td>\n",
       "      <td>1</td>\n",
       "      <td>3</td>\n",
       "      <td>5</td>\n",
       "    </tr>\n",
       "    <tr>\n",
       "      <th>2011-01-01 04:00:00</th>\n",
       "      <td>0.0</td>\n",
       "      <td>0.0</td>\n",
       "      <td>clear</td>\n",
       "      <td>9.84</td>\n",
       "      <td>14.395</td>\n",
       "      <td>75.0</td>\n",
       "      <td>0.0000</td>\n",
       "      <td>1.0</td>\n",
       "      <td>1</td>\n",
       "      <td>4</td>\n",
       "      <td>5</td>\n",
       "    </tr>\n",
       "    <tr>\n",
       "      <th>...</th>\n",
       "      <td>...</td>\n",
       "      <td>...</td>\n",
       "      <td>...</td>\n",
       "      <td>...</td>\n",
       "      <td>...</td>\n",
       "      <td>...</td>\n",
       "      <td>...</td>\n",
       "      <td>...</td>\n",
       "      <td>...</td>\n",
       "      <td>...</td>\n",
       "      <td>...</td>\n",
       "    </tr>\n",
       "    <tr>\n",
       "      <th>2012-12-31 19:00:00</th>\n",
       "      <td>0.0</td>\n",
       "      <td>1.0</td>\n",
       "      <td>mist</td>\n",
       "      <td>10.66</td>\n",
       "      <td>12.880</td>\n",
       "      <td>60.0</td>\n",
       "      <td>11.0014</td>\n",
       "      <td>119.0</td>\n",
       "      <td>12</td>\n",
       "      <td>19</td>\n",
       "      <td>0</td>\n",
       "    </tr>\n",
       "    <tr>\n",
       "      <th>2012-12-31 20:00:00</th>\n",
       "      <td>0.0</td>\n",
       "      <td>1.0</td>\n",
       "      <td>mist</td>\n",
       "      <td>10.66</td>\n",
       "      <td>12.880</td>\n",
       "      <td>60.0</td>\n",
       "      <td>11.0014</td>\n",
       "      <td>89.0</td>\n",
       "      <td>12</td>\n",
       "      <td>20</td>\n",
       "      <td>0</td>\n",
       "    </tr>\n",
       "    <tr>\n",
       "      <th>2012-12-31 21:00:00</th>\n",
       "      <td>0.0</td>\n",
       "      <td>1.0</td>\n",
       "      <td>clear</td>\n",
       "      <td>10.66</td>\n",
       "      <td>12.880</td>\n",
       "      <td>60.0</td>\n",
       "      <td>11.0014</td>\n",
       "      <td>90.0</td>\n",
       "      <td>12</td>\n",
       "      <td>21</td>\n",
       "      <td>0</td>\n",
       "    </tr>\n",
       "    <tr>\n",
       "      <th>2012-12-31 22:00:00</th>\n",
       "      <td>0.0</td>\n",
       "      <td>1.0</td>\n",
       "      <td>clear</td>\n",
       "      <td>10.66</td>\n",
       "      <td>13.635</td>\n",
       "      <td>56.0</td>\n",
       "      <td>8.9981</td>\n",
       "      <td>61.0</td>\n",
       "      <td>12</td>\n",
       "      <td>22</td>\n",
       "      <td>0</td>\n",
       "    </tr>\n",
       "    <tr>\n",
       "      <th>2012-12-31 23:00:00</th>\n",
       "      <td>0.0</td>\n",
       "      <td>1.0</td>\n",
       "      <td>clear</td>\n",
       "      <td>10.66</td>\n",
       "      <td>13.635</td>\n",
       "      <td>65.0</td>\n",
       "      <td>8.9981</td>\n",
       "      <td>49.0</td>\n",
       "      <td>12</td>\n",
       "      <td>23</td>\n",
       "      <td>0</td>\n",
       "    </tr>\n",
       "  </tbody>\n",
       "</table>\n",
       "<p>17544 rows × 11 columns</p>\n",
       "</div>"
      ],
      "text/plain": [
       "                     holiday  workingday weather   temp   atemp   hum  \\\n",
       "date_time                                                               \n",
       "2011-01-01 00:00:00      0.0         0.0   clear   9.84  14.395  81.0   \n",
       "2011-01-01 01:00:00      0.0         0.0   clear   9.02  13.635  80.0   \n",
       "2011-01-01 02:00:00      0.0         0.0   clear   9.02  13.635  80.0   \n",
       "2011-01-01 03:00:00      0.0         0.0   clear   9.84  14.395  75.0   \n",
       "2011-01-01 04:00:00      0.0         0.0   clear   9.84  14.395  75.0   \n",
       "...                      ...         ...     ...    ...     ...   ...   \n",
       "2012-12-31 19:00:00      0.0         1.0    mist  10.66  12.880  60.0   \n",
       "2012-12-31 20:00:00      0.0         1.0    mist  10.66  12.880  60.0   \n",
       "2012-12-31 21:00:00      0.0         1.0   clear  10.66  12.880  60.0   \n",
       "2012-12-31 22:00:00      0.0         1.0   clear  10.66  13.635  56.0   \n",
       "2012-12-31 23:00:00      0.0         1.0   clear  10.66  13.635  65.0   \n",
       "\n",
       "                     windspeed  users  month  hour  weekday  \n",
       "date_time                                                    \n",
       "2011-01-01 00:00:00     0.0000   16.0      1     0        5  \n",
       "2011-01-01 01:00:00     0.0000   40.0      1     1        5  \n",
       "2011-01-01 02:00:00     0.0000   32.0      1     2        5  \n",
       "2011-01-01 03:00:00     0.0000   13.0      1     3        5  \n",
       "2011-01-01 04:00:00     0.0000    1.0      1     4        5  \n",
       "...                        ...    ...    ...   ...      ...  \n",
       "2012-12-31 19:00:00    11.0014  119.0     12    19        0  \n",
       "2012-12-31 20:00:00    11.0014   89.0     12    20        0  \n",
       "2012-12-31 21:00:00    11.0014   90.0     12    21        0  \n",
       "2012-12-31 22:00:00     8.9981   61.0     12    22        0  \n",
       "2012-12-31 23:00:00     8.9981   49.0     12    23        0  \n",
       "\n",
       "[17544 rows x 11 columns]"
      ]
     },
     "execution_count": 13,
     "metadata": {},
     "output_type": "execute_result"
    }
   ],
   "source": [
    "datos"
   ]
  },
  {
   "cell_type": "code",
   "execution_count": 14,
   "metadata": {},
   "outputs": [],
   "source": [
    "datos.to_csv(\"bike_sharing_dataset_clean.csv\")"
   ]
  }
 ],
 "metadata": {
  "kernelspec": {
   "display_name": "skforecast_dev",
   "language": "python",
   "name": "skforecast_dev"
  },
  "language_info": {
   "codemirror_mode": {
    "name": "ipython",
    "version": 3
   },
   "file_extension": ".py",
   "mimetype": "text/x-python",
   "name": "python",
   "nbconvert_exporter": "python",
   "pygments_lexer": "ipython3",
   "version": "3.7.10"
  },
  "toc": {
   "base_numbering": 1,
   "nav_menu": {},
   "number_sections": false,
   "sideBar": true,
   "skip_h1_title": true,
   "title_cell": "Tabla de contenidos",
   "title_sidebar": "Tabla de contenidos",
   "toc_cell": false,
   "toc_position": {
    "height": "calc(100% - 180px)",
    "left": "10px",
    "top": "150px",
    "width": "213px"
   },
   "toc_section_display": true,
   "toc_window_display": true
  },
  "varInspector": {
   "cols": {
    "lenName": 16,
    "lenType": 16,
    "lenVar": 40
   },
   "kernels_config": {
    "python": {
     "delete_cmd_postfix": "",
     "delete_cmd_prefix": "del ",
     "library": "var_list.py",
     "varRefreshCmd": "print(var_dic_list())"
    },
    "r": {
     "delete_cmd_postfix": ") ",
     "delete_cmd_prefix": "rm(",
     "library": "var_list.r",
     "varRefreshCmd": "cat(var_dic_list()) "
    }
   },
   "position": {
    "height": "144.391px",
    "left": "1478px",
    "right": "20px",
    "top": "126px",
    "width": "350px"
   },
   "types_to_exclude": [
    "module",
    "function",
    "builtin_function_or_method",
    "instance",
    "_Feature"
   ],
   "window_display": false
  }
 },
 "nbformat": 4,
 "nbformat_minor": 4
}
